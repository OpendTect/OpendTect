{
 "cells": [
  {
   "cell_type": "code",
   "execution_count": 1,
   "id": "27f7c5b9-7dcb-4ac5-99cc-09bcabf9feb0",
   "metadata": {},
   "outputs": [],
   "source": [
    "odpy_path = '/home/wayne/Work/WMSeismicSolutions/dGB/Development/Build/bin/od7.0/bin/python'\n",
    "data_root = '/mnt/Data/seismic/ODData'\n",
    "import os\n",
    "import sys"
   ]
  },
  {
   "cell_type": "code",
   "execution_count": 2,
   "id": "bdcca7f0-c73f-4216-8d57-1a2074689996",
   "metadata": {},
   "outputs": [],
   "source": [
    "sys.path.insert(0,odpy_path)\n",
    "os.environ[\"DTECT_DATA\"] = data_root\n",
    "import odbind as odb"
   ]
  },
  {
   "cell_type": "code",
   "execution_count": 3,
   "id": "e582c1c3-6f12-4b7d-9e11-296dde6496d2",
   "metadata": {},
   "outputs": [
    {
     "data": {
      "text/plain": [
       "['Blake_Ridge_Hydrates_3D',\n",
       " 'Demo_OpendTect',\n",
       " 'Dip_Testing',\n",
       " 'F3_Demo_2020',\n",
       " 'F3_Demo_2020_copy',\n",
       " 'F3_Demo_2020_SynthRock',\n",
       " 'FaultSeg3D',\n",
       " 'Floyd',\n",
       " 'Floyd_HiRes',\n",
       " 'Floyd_PSDM',\n",
       " 'Floyd_Time_Demo',\n",
       " 'FORCE_ML_Competition_2020_Synthetic_Models_and_Wells',\n",
       " 'GKProcessing',\n",
       " 'Hyland_2D',\n",
       " 'Laverda_Baseline',\n",
       " 'Laverda_Baseline_noseismic',\n",
       " 'Liberator_Tomo',\n",
       " 'Maui-NZ_SEG2017',\n",
       " 'Mumbai2019',\n",
       " 'Mumbai_Depth',\n",
       " 'Penobscot',\n",
       " 'Petrel_SubBasin',\n",
       " 'Senex_Liberator',\n",
       " 'Senex_Westeros',\n",
       " 'USGS_Central_Alaska_v5',\n",
       " 'Waka_Depth',\n",
       " 'Waka_Time',\n",
       " 'ZVSP-test']"
      ]
     },
     "execution_count": 3,
     "metadata": {},
     "output_type": "execute_result"
    }
   ],
   "source": [
    "odb.Survey.names(data_root)"
   ]
  },
  {
   "cell_type": "code",
   "execution_count": 4,
   "id": "406b6cc1-0d9b-4cf6-9bc2-db707be8f8e3",
   "metadata": {},
   "outputs": [
    {
     "data": {
      "text/plain": [
       "'{\"type\":\"FeatureCollection\",\"features\":[{\"type\":\"Feature\",\"properties\":{\"Name\":\"Blake_Ridge_Hydrates_3D\",\"Type\":\"3D\",\"crs\":\"EPSG:32618\"},\"geometry\":{\"type\":\"Polygon\",\"coordinates\":[[-75.73402627779106,31.882762149733857],[-75.715712969186782,31.821112966002879],[-75.2138889512822,31.928547857930312],[-75.2318904045147,31.990270760746],[-75.73402627779106,31.882762149733857]]}},{\"type\":\"Feature\",\"properties\":{\"Name\":\"Demo_OpendTect\",\"Type\":\"3D\",\"crs\":\"\"},\"geometry\":{\"type\":\"Polygon\",\"coordinates\":[[1e30,1e30],[1e30,1e30],[1e30,1e30],[1e30,1e30],[1e30,1e30]]}},{\"type\":\"Feature\",\"properties\":{\"Name\":\"Dip_Testing\",\"Type\":\"3D\",\"crs\":\"\"},\"geometry\":{\"type\":\"Polygon\",\"coordinates\":[[1e30,1e30],[1e30,1e30],[1e30,1e30],[1e30,1e30],[1e30,1e30]]}},{\"type\":\"Feature\",\"properties\":{\"Name\":\"F3_Demo_2020\",\"Type\":\"2D3D\",\"crs\":\"EPSG:23031\"},\"geometry\":{\"type\":\"Polygon\",\"coordinates\":[[4.644803272104159,54.79611921],[4.643676020928361,54.942125939595236],[5.014355650420845,54.94251151483423],[5.014145312857988,54.796513383398754],[4.644803272104159,54.79611921]]}},{\"type\":\"Feature\",\"properties\":{\"Name\":\"F3_Demo_2020_copy\",\"Type\":\"2D3D\",\"crs\":\"EPSG:23031\"},\"geometry\":{\"type\":\"Polygon\",\"coordinates\":[[4.644803272104159,54.79611921],[4.643676020928361,54.942125939595236],[5.014355650420845,54.94251151483423],[5.014145312857988,54.796513383398754],[4.644803272104159,54.79611921]]}},{\"type\":\"Feature\",\"properties\":{\"Name\":\"F3_Demo_2020_SynthRock\",\"Type\":\"2D3D\",\"crs\":\"EPSG:23031\"},\"geometry\":{\"type\":\"Polygon\",\"coordinates\":[[4.644803262978232,54.796119186832151],[4.643675997144288,54.942125953831727],[5.014355702176622,54.942511521365958],[5.014145378657126,54.796513352478961],[4.644803262978232,54.796119186832151]]}},{\"type\":\"Feature\",\"properties\":{\"Name\":\"FaultSeg3D\",\"Type\":\"3D\",\"crs\":\"\"},\"geometry\":{\"type\":\"Polygon\",\"coordinates\":[[1e30,1e30],[1e30,1e30],[1e30,1e30],[1e30,1e30],[1e30,1e30]]}},{\"type\":\"Feature\",\"properties\":{\"Name\":\"Floyd\",\"Type\":\"3D\",\"crs\":\"EPSG:28352\"},\"geometry\":{\"type\":\"Polygon\",\"coordinates\":[[127.760328780802766,-13.6198272643868],[127.904598241900757,-13.480021720697916],[128.17428935761626,-13.7458942809306],[128.03,-13.885853806119028],[127.760328780802766,-13.6198272643868]]}},{\"type\":\"Feature\",\"properties\":{\"Name\":\"Floyd_HiRes\",\"Type\":\"3D\",\"crs\":\"\"},\"geometry\":{\"type\":\"Polygon\",\"coordinates\":[[1e30,1e30],[1e30,1e30],[1e30,1e30],[1e30,1e30],[1e30,1e30]]}},{\"type\":\"Feature\",\"properties\":{\"Name\":\"Floyd_PSDM\",\"Type\":\"3D\",\"crs\":\"\"},\"geometry\":{\"type\":\"Polygon\",\"coordinates\":[[1e30,1e30],[1e30,1e30],[1e30,1e30],[1e30,1e30],[1e30,1e30]]}},{\"type\":\"Feature\",\"properties\":{\"Name\":\"Floyd_Time_Demo\",\"Type\":\"2D3D\",\"crs\":\"EPSG:28352\"},\"geometry\":{\"type\":\"Polygon\",\"coordinates\":[[127.876940810291273,-13.73497075951242],[127.991526386985029,-13.623908763249466],[128.14459070601279,-13.774722059727285],[128.03,-13.885853806119028],[127.876940810291273,-13.73497075951242]]}},{\"type\":\"Feature\",\"properties\":{\"Name\":\"FORCE ML Competition 2020 Synthetic Models and Wells\",\"Type\":\"3D\",\"crs\":\"EPSG:32751\"},\"geometry\":{\"type\":\"Polygon\",\"coordinates\":[[122.818189591638045,-14.236139357036777],[122.844259816118381,-14.236157778357489],[122.8443052415026,-14.169700463687656],[122.818242620913452,-14.169682131843658],[122.818189591638045,-14.236139357036777]]}},{\"type\":\"Feature\",\"properties\":{\"Name\":\"GKProcessing\",\"Type\":\"3D\",\"crs\":\"\"},\"geometry\":{\"type\":\"Polygon\",\"coordinates\":[[1e30,1e30],[1e30,1e30],[1e30,1e30],[1e30,1e30],[1e30,1e30]]}},{\"type\":\"Feature\",\"properties\":{\"Name\":\"Hyland_2D\",\"Type\":\"2D3D\",\"crs\":\"EPSG:28352\"},\"geometry\":{\"type\":\"Polygon\",\"coordinates\":[[129.3291,-14.03201288539767],[129.754868805821047,-14.031059497921127],[129.7537691869735,-13.690428073228611],[129.32862047578044,-13.691357433259338],[129.3291,-14.03201288539767]]}},{\"type\":\"Feature\",\"properties\":{\"Name\":\"Laverda Baseline\",\"Type\":\"3D\",\"crs\":\"\"},\"geometry\":{\"type\":\"Polygon\",\"coordinates\":[[1e30,1e30],[1e30,1e30],[1e30,1e30],[1e30,1e30],[1e30,1e30]]}},{\"type\":\"Feature\",\"properties\":{\"Name\":\"Laverda_Baseline_noseismic\",\"Type\":\"3D\",\"crs\":\"\"},\"geometry\":{\"type\":\"Polygon\",\"coordinates\":[[1e30,1e30],[1e30,1e30],[1e30,1e30],[1e30,1e30],[1e30,1e30]]}},{\"type\":\"Feature\",\"properties\":{\"Name\":\"Liberator_Tomo\",\"Type\":\"3D\",\"crs\":\"EPSG:28354\"},\"geometry\":{\"type\":\"Polygon\",\"coordinates\":[[139.469930174160737,-27.682240277860426],[139.476235891249843,-27.22450284510381],[139.81346022492653,-27.2277655535693],[139.808549095466077,-27.685567037695371],[139.469930174160737,-27.682240277860426]]}},{\"type\":\"Feature\",\"properties\":{\"Name\":\"Maui-NZ_SEG2017\",\"Type\":\"3D\",\"crs\":\"\"},\"geometry\":{\"type\":\"Polygon\",\"coordinates\":[[1e30,1e30],[1e30,1e30],[1e30,1e30],[1e30,1e30],[1e30,1e30]]}},{\"type\":\"Feature\",\"properties\":{\"Name\":\"Mumbai2019\",\"Type\":\"2D3D\",\"crs\":\"EPSG:28352\"},\"geometry\":{\"type\":\"Polygon\",\"coordinates\":[[127.876940810291273,-13.73497075951242],[127.991526386985029,-13.623908763249466],[128.14459070601279,-13.774722059727285],[128.03,-13.885853806119028],[127.876940810291273,-13.73497075951242]]}},{\"type\":\"Feature\",\"properties\":{\"Name\":\"Mumbai_Depth\",\"Type\":\"2D3D\",\"crs\":\"EPSG:28352\"},\"geometry\":{\"type\":\"Polygon\",\"coordinates\":[[127.876940767820159,-13.7349707927739],[127.991526415236152,-13.623908742801149],[128.1445907353104,-13.774722040285477],[128.03,-13.88585384043011],[127.876940767820159,-13.7349707927739]]}},{\"type\":\"Feature\",\"properties\":{\"Name\":\"Penobscot\",\"Type\":\"2D3D\",\"crs\":\"\"},\"geometry\":{\"type\":\"Polygon\",\"coordinates\":[[-60.098840357283756,44.126586270320686],[-60.142439528659075,44.18636151212391],[-60.008757144140453,44.23651764606311],[-59.965157972765141,44.176742404259883],[-60.098840357283756,44.126586270320686]]}},{\"type\":\"Feature\",\"properties\":{\"Name\":\"Petrel_SubBasin\",\"Type\":\"2D\",\"crs\":\"EPSG:28352\"},\"geometry\":{\"type\":\"Polygon\",\"coordinates\":[[127.783874199684362,-13.989684837777173],[128.1616070063663,-13.991283843359575],[128.1624894257443,-13.745365328734954],[127.785153982018485,-13.743795504084879],[127.783874199684362,-13.989684837777173]]}},{\"type\":\"Feature\",\"properties\":{\"Name\":\"Senex_Liberator\",\"Type\":\"2D3D\",\"crs\":\"EPSG:28354\"},\"geometry\":{\"type\":\"Polygon\",\"coordinates\":[[139.476868739265683,-27.664445475362427],[139.48263957963189,-27.243708420913965],[139.793261175778213,-27.246730475971972],[139.788670889545045,-27.66752201762268],[139.476868739265683,-27.664445475362427]]}},{\"type\":\"Feature\",\"properties\":{\"Name\":\"Senex_Westeros\",\"Type\":\"3D\",\"crs\":\"EPSG:28354\"},\"geometry\":{\"type\":\"Polygon\",\"coordinates\":[[139.521243344168425,-28.476420384261125],[139.484871813508761,-28.255622295162055],[139.827660849426678,-28.210980419044756],[139.864734729001526,-28.431710800358111],[139.521243344168425,-28.476420384261125]]}},{\"type\":\"Feature\",\"properties\":{\"Name\":\"USGS Central Alaska\",\"Type\":\"2D\",\"crs\":\"\"},\"geometry\":{\"type\":\"Polygon\",\"coordinates\":[[-154.286341533698959,69.594824724133161],[-150.907607333459168,69.594824724133161],[-150.907607333459168,70.602626482366873],[-154.286341533698959,70.602626482366873],[-154.286341533698959,69.594824724133161]]}},{\"type\":\"Feature\",\"properties\":{\"Name\":\"Waka_Depth\",\"Type\":\"2D3D\",\"crs\":\"\"},\"geometry\":{\"type\":\"Polygon\",\"coordinates\":[[1e30,1e30],[1e30,1e30],[1e30,1e30],[1e30,1e30],[1e30,1e30]]}},{\"type\":\"Feature\",\"properties\":{\"Name\":\"Waka_Time\",\"Type\":\"2D3D\",\"crs\":\"EPSG:27200\"},\"geometry\":{\"type\":\"Polygon\",\"coordinates\":[[145.9712448744111,-48.867038501234667],[146.19100330270109,-48.960170042760033],[146.7200233560022,-48.436485066525051],[146.497308998671087,-48.335179383896339],[145.9712448744111,-48.867038501234667]]}},{\"type\":\"Feature\",\"properties\":{\"Name\":\"ZVSP-test\",\"Type\":\"2D3D\",\"crs\":\"\"},\"geometry\":{\"type\":\"Polygon\",\"coordinates\":[[1e30,1e30],[1e30,1e30],[1e30,1e30],[1e30,1e30],[1e30,1e30]]}}]}'"
      ]
     },
     "execution_count": 4,
     "metadata": {},
     "output_type": "execute_result"
    }
   ],
   "source": [
    "odb.Survey.features(data_root)"
   ]
  },
  {
   "cell_type": "code",
   "execution_count": 5,
   "id": "a81d21af-3e8d-455c-97a9-941710e6ddd6",
   "metadata": {},
   "outputs": [],
   "source": [
    "f3demo = odb.Survey(data_root, 'F3_Demo_2020')\n",
    "penobscot = odb.Survey(data_root, 'Penobscot')"
   ]
  },
  {
   "cell_type": "code",
   "execution_count": 6,
   "id": "5dc4d837-cb28-43a1-b14a-e891ad82464e",
   "metadata": {},
   "outputs": [
    {
     "name": "stdout",
     "output_type": "stream",
     "text": [
      "F3Demo: {'Name': 'F3_Demo_2020', 'Type': '2D3D', 'crs': 'EPSG:23031'} \n",
      "Penobscot: {'Name': 'Penobscot', 'Type': '2D3D', 'crs': ''}\n"
     ]
    }
   ],
   "source": [
    "print(f'F3Demo: {f3demo.info()} \\nPenobscot: {penobscot.info()}')"
   ]
  },
  {
   "cell_type": "code",
   "execution_count": 7,
   "id": "96c7fa19-8bb5-4b0e-ad17-e41524d5d265",
   "metadata": {},
   "outputs": [
    {
     "data": {
      "text/plain": [
       "{'type': 'Feature',\n",
       " 'properties': {'Name': 'F3_Demo_2020', 'Type': '2D3D', 'crs': 'EPSG:23031'},\n",
       " 'geometry': {'type': 'Polygon',\n",
       "  'coordinates': [[4.644803272104159, 54.79611921],\n",
       "   [4.643676020928361, 54.942125939595236],\n",
       "   [5.014355650420845, 54.94251151483423],\n",
       "   [5.014145312857988, 54.796513383398754],\n",
       "   [4.644803272104159, 54.79611921]]}}"
      ]
     },
     "execution_count": 7,
     "metadata": {},
     "output_type": "execute_result"
    }
   ],
   "source": [
    "f3demo.feature()"
   ]
  },
  {
   "cell_type": "code",
   "execution_count": 8,
   "id": "ea69eb7c-6f68-4bf7-b34d-bb9532b05abb",
   "metadata": {},
   "outputs": [
    {
     "data": {
      "text/plain": [
       "(300.00000798754286, 500.00011138366614)"
      ]
     },
     "execution_count": 8,
     "metadata": {},
     "output_type": "execute_result"
    }
   ],
   "source": [
    "f3demo.bincoords(610693.97, 6078694.00)"
   ]
  },
  {
   "cell_type": "code",
   "execution_count": 9,
   "id": "3692e419-358f-4c51-95a1-78641dbb960d",
   "metadata": {},
   "outputs": [
    {
     "data": {
      "text/plain": [
       "(610693.96722207, 6078693.9997226)"
      ]
     },
     "execution_count": 9,
     "metadata": {},
     "output_type": "execute_result"
    }
   ],
   "source": [
    "f3demo.coords(300, 500)"
   ]
  },
  {
   "cell_type": "code",
   "execution_count": 10,
   "id": "72ce386b-01d0-43e0-9c8b-d60f83f052c3",
   "metadata": {},
   "outputs": [
    {
     "data": {
      "text/plain": [
       "['SSIS-Grid-Base',\n",
       " 'SSIS-Grid-Top',\n",
       " 'SSIS-Grid1-MFS1',\n",
       " 'SSIS-Grid3-SB1',\n",
       " 'SSIS-Grid7-MRS2',\n",
       " 'SSIS-Grid6-SB2',\n",
       " 'SSIS-Grid4-MRS1',\n",
       " 'SSIS-Grid2-TopHST1',\n",
       " 'SSIS-Grid5-TopHST2',\n",
       " '2D Demo0 - FS4',\n",
       " '2D Demo1 - MFS4',\n",
       " '2D Demo4 - Truncation',\n",
       " '2D Demo6 - FS8',\n",
       " '2D Demo7 - FS11']"
      ]
     },
     "execution_count": 10,
     "metadata": {},
     "output_type": "execute_result"
    }
   ],
   "source": [
    "odb.Horizon2D.names(f3demo)"
   ]
  },
  {
   "cell_type": "code",
   "execution_count": 11,
   "id": "1572adec-f088-4530-bd64-847589d23056",
   "metadata": {},
   "outputs": [
    {
     "data": {
      "text/plain": [
       "{'Name': 'SSIS-Grid1-MFS1',\n",
       " 'NrAttribute': 0,\n",
       " 'Z Range': [0.717825710773468, 1.039108514785767]}"
      ]
     },
     "execution_count": 11,
     "metadata": {},
     "output_type": "execute_result"
    }
   ],
   "source": [
    "mfs1 = odb.Horizon2D(f3demo, 'SSIS-Grid1-MFS1')\n",
    "mfs1.info()"
   ]
  },
  {
   "cell_type": "code",
   "execution_count": 12,
   "id": "9045de2e-ad62-40b8-86f8-09f8500644c5",
   "metadata": {},
   "outputs": [
    {
     "data": {
      "text/plain": [
       "[3]"
      ]
     },
     "execution_count": 12,
     "metadata": {},
     "output_type": "execute_result"
    }
   ],
   "source": [
    "mfs1.lineids()"
   ]
  },
  {
   "cell_type": "code",
   "execution_count": 13,
   "id": "7dbe6728-c33b-4d0b-b2f9-2b9923f6234a",
   "metadata": {},
   "outputs": [
    {
     "data": {
      "text/plain": [
       "[]"
      ]
     },
     "execution_count": 13,
     "metadata": {},
     "output_type": "execute_result"
    }
   ],
   "source": [
    "mfs1.attribnames()"
   ]
  }
 ],
 "metadata": {
  "kernelspec": {
   "display_name": "Python 3 (ipykernel)",
   "language": "python",
   "name": "python3"
  },
  "language_info": {
   "codemirror_mode": {
    "name": "ipython",
    "version": 3
   },
   "file_extension": ".py",
   "mimetype": "text/x-python",
   "name": "python",
   "nbconvert_exporter": "python",
   "pygments_lexer": "ipython3",
   "version": "3.10.9"
  }
 },
 "nbformat": 4,
 "nbformat_minor": 5
}
