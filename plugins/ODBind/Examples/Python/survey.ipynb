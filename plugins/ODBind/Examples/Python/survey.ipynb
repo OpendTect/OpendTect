{
 "cells": [
  {
   "cell_type": "markdown",
   "id": "383b3a3e-8294-435f-b723-3a7d555d1d6f",
   "metadata": {},
   "source": [
    "# Survey Class - ODBind Python Bindings"
   ]
  },
  {
   "cell_type": "code",
   "execution_count": 1,
   "id": "27f7c5b9-7dcb-4ac5-99cc-09bcabf9feb0",
   "metadata": {},
   "outputs": [],
   "source": [
    "odpy_path = '/home/wayne/Work/WMSeismicSolutions/dGB/Development/Build/bin/od7.0/bin/python'\n",
    "data_root = '/mnt/Data/seismic/ODData'\n",
    "import os\n",
    "import sys"
   ]
  },
  {
   "cell_type": "code",
   "execution_count": 2,
   "id": "bdcca7f0-c73f-4216-8d57-1a2074689996",
   "metadata": {},
   "outputs": [],
   "source": [
    "sys.path.insert(0,odpy_path)\n",
    "os.environ[\"DTECT_DATA\"] = data_root\n",
    "import odbind as odb"
   ]
  },
  {
   "cell_type": "markdown",
   "id": "314fd8b1-991e-490a-90a3-72c7f6275383",
   "metadata": {},
   "source": [
    "This class encapsulates an OpendTect project/survey. Creating a Survey object requires both the base data folder location and the project/survey name. Various methods/properties are available to get information about the survey.\n",
    "\n",
    "The other data specific classes provided by the bindings require a Survey object for context. "
   ]
  },
  {
   "cell_type": "code",
   "execution_count": 3,
   "id": "a81d21af-3e8d-455c-97a9-941710e6ddd6",
   "metadata": {},
   "outputs": [],
   "source": [
    "f3demo = odb.Survey(data_root, 'F3_Demo_2020')\n",
    "penobscot = odb.Survey(data_root, 'Penobscot')"
   ]
  },
  {
   "cell_type": "code",
   "execution_count": 4,
   "id": "5dc4d837-cb28-43a1-b14a-e891ad82464e",
   "metadata": {},
   "outputs": [
    {
     "name": "stdout",
     "output_type": "stream",
     "text": [
      "F3Demo: {'name': 'F3_Demo_2020', 'type': '2D3D', 'crs': 'EPSG:23031', 'xyunit': 'm', 'zunit': 'ms', 'srd': 0} \n",
      "Penobscot: {'name': 'Penobscot', 'type': '2D3D', 'crs': '', 'xyunit': 'm', 'zunit': 'ms', 'srd': 1e+30}\n"
     ]
    }
   ],
   "source": [
    "print(f'F3Demo: {f3demo.info()} \\nPenobscot: {penobscot.info()}')"
   ]
  },
  {
   "cell_type": "code",
   "execution_count": 5,
   "id": "ea69eb7c-6f68-4bf7-b34d-bb9532b05abb",
   "metadata": {},
   "outputs": [
    {
     "data": {
      "text/plain": [
       "(299.99550032710283, 499.9998851830679)"
      ]
     },
     "execution_count": 5,
     "metadata": {},
     "output_type": "execute_result"
    }
   ],
   "source": [
    "f3demo.bincoords(610693.97, 6078694.00)"
   ]
  },
  {
   "cell_type": "code",
   "execution_count": 6,
   "id": "3692e419-358f-4c51-95a1-78641dbb960d",
   "metadata": {},
   "outputs": [
    {
     "data": {
      "text/plain": [
       "(610693.9697284698, 6078694.112525463)"
      ]
     },
     "execution_count": 6,
     "metadata": {},
     "output_type": "execute_result"
    }
   ],
   "source": [
    "f3demo.coords(300, 500)"
   ]
  },
  {
   "cell_type": "code",
   "execution_count": 7,
   "id": "96c7fa19-8bb5-4b0e-ad17-e41524d5d265",
   "metadata": {},
   "outputs": [
    {
     "data": {
      "text/plain": [
       "{'type': 'Feature',\n",
       " 'properties': {'name': 'F3_Demo_2020',\n",
       "  'type': '2D3D',\n",
       "  'crs': 'EPSG:23031',\n",
       "  'xyunit': 'm',\n",
       "  'zunit': 'ms',\n",
       "  'srd': 0},\n",
       " 'geometry': {'type': 'Polygon',\n",
       "  'coordinates': [[4.644803351594548, 54.796120223953054],\n",
       "   [4.64367610071001, 54.94212694984212],\n",
       "   [5.014355742545435, 54.94251252455987],\n",
       "   [5.01414540463039, 54.79651439682383],\n",
       "   [4.644803351594548, 54.796120223953054]]}}"
      ]
     },
     "execution_count": 7,
     "metadata": {},
     "output_type": "execute_result"
    }
   ],
   "source": [
    "f3demo.feature()"
   ]
  },
  {
   "cell_type": "markdown",
   "id": "83f65050-c275-4e68-8dd3-a4872695a267",
   "metadata": {},
   "source": [
    "## Static methods\n",
    "A number of methods are provided to get information either for all or a selected number of surveys in a user provided data root."
   ]
  },
  {
   "cell_type": "code",
   "execution_count": 8,
   "id": "e582c1c3-6f12-4b7d-9e11-296dde6496d2",
   "metadata": {},
   "outputs": [
    {
     "data": {
      "text/plain": [
       "['Blake_Ridge_Hydrates_3D',\n",
       " 'Demo_OpendTect',\n",
       " 'Dip_Testing',\n",
       " 'F3_Demo_2020',\n",
       " 'F3_Demo_2020_copy',\n",
       " 'F3_Demo_2020_SynthRock',\n",
       " 'FaultSeg3D',\n",
       " 'Floyd',\n",
       " 'Floyd_HiRes',\n",
       " 'Floyd_PSDM',\n",
       " 'Floyd_Time_Demo',\n",
       " 'FORCE_ML_Competition_2020_Synthetic_Models_and_Wells',\n",
       " 'GKProcessing',\n",
       " 'Hyland_2D',\n",
       " 'Laverda_Baseline',\n",
       " 'Laverda_Baseline_noseismic',\n",
       " 'Liberator_Tomo',\n",
       " 'Maui-NZ_SEG2017',\n",
       " 'Mumbai2019',\n",
       " 'Mumbai_Depth',\n",
       " 'Penobscot',\n",
       " 'Petrel_SubBasin',\n",
       " 'Senex_Liberator',\n",
       " 'Senex_Westeros',\n",
       " 'USGS_Central_Alaska_v5',\n",
       " 'Waka_Depth',\n",
       " 'Waka_Time',\n",
       " 'ZVSP-test']"
      ]
     },
     "execution_count": 8,
     "metadata": {},
     "output_type": "execute_result"
    }
   ],
   "source": [
    "odb.Survey.names(data_root)"
   ]
  },
  {
   "cell_type": "code",
   "execution_count": 9,
   "id": "2538d515-63cb-4029-bb43-5dd6b0967a47",
   "metadata": {
    "tags": []
   },
   "outputs": [
    {
     "data": {
      "text/plain": [
       "{'name': ['F3_Demo_2020', 'Penobscot'],\n",
       " 'type': ['2D3D', '2D3D'],\n",
       " 'crs': ['EPSG:23031', ''],\n",
       " 'xyunit': ['m', 'm'],\n",
       " 'zunit': ['ms', 'ms'],\n",
       " 'srd': [0, 1e+30]}"
      ]
     },
     "execution_count": 9,
     "metadata": {},
     "output_type": "execute_result"
    }
   ],
   "source": [
    "odb.Survey.infos(data_root, ['F3_Demo_2020', 'Penobscot'])"
   ]
  },
  {
   "cell_type": "code",
   "execution_count": 10,
   "id": "406b6cc1-0d9b-4cf6-9bc2-db707be8f8e3",
   "metadata": {},
   "outputs": [
    {
     "data": {
      "text/plain": [
       "'{\"type\":\"FeatureCollection\",\"features\":[{\"type\":\"Feature\",\"properties\":{\"name\":\"F3_Demo_2020\",\"type\":\"2D3D\",\"crs\":\"EPSG:23031\",\"xyunit\":\"m\",\"zunit\":\"ms\",\"srd\":0},\"geometry\":{\"type\":\"Polygon\",\"coordinates\":[[4.644803351594548,54.796120223953054],[4.64367610071001,54.94212694984212],[5.014355742545435,54.942512524559866],[5.01414540463039,54.796514396823831],[4.644803351594548,54.796120223953054]]}}]}'"
      ]
     },
     "execution_count": 10,
     "metadata": {},
     "output_type": "execute_result"
    }
   ],
   "source": [
    "odb.Survey.features(data_root, ['F3_Demo_2020'])"
   ]
  }
 ],
 "metadata": {
  "jupytext": {
   "formats": "ipynb,md"
  },
  "kernelspec": {
   "display_name": "Python 3 (ipykernel)",
   "language": "python",
   "name": "python3"
  },
  "language_info": {
   "codemirror_mode": {
    "name": "ipython",
    "version": 3
   },
   "file_extension": ".py",
   "mimetype": "text/x-python",
   "name": "python",
   "nbconvert_exporter": "python",
   "pygments_lexer": "ipython3",
   "version": "3.10.9"
  }
 },
 "nbformat": 4,
 "nbformat_minor": 5
}
