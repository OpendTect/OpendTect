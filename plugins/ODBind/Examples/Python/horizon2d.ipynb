{
 "cells": [
  {
   "cell_type": "markdown",
   "id": "383b3a3e-8294-435f-b723-3a7d555d1d6f",
   "metadata": {},
   "source": [
    "# Horizon2D Class - ODBind Python Bindings"
   ]
  },
  {
   "cell_type": "code",
   "execution_count": 1,
   "id": "27f7c5b9-7dcb-4ac5-99cc-09bcabf9feb0",
   "metadata": {},
   "outputs": [],
   "source": [
    "import os\n",
    "import sys"
   ]
  },
  {
   "cell_type": "markdown",
   "id": "c1f443dc-193d-4f31-8794-4563de733dae",
   "metadata": {},
   "source": [
    "**If this notebook is not opened from OpendTect then the following paths should be set for your system and the cell executed.**"
   ]
  },
  {
   "cell_type": "code",
   "execution_count": 2,
   "id": "75dc65b8-edf7-46d6-ad64-514f31cd6190",
   "metadata": {},
   "outputs": [],
   "source": [
    "odpy_path = '/home/wayne/Work/WMSeismicSolutions/dGB/Development/Build/bin/od7.0/bin/python'\n",
    "data_root = '/mnt/Data/seismic/ODData'\n",
    "sys.path.insert(0,odpy_path)\n",
    "os.environ[\"DTECT_DATA\"] = data_root"
   ]
  },
  {
   "cell_type": "code",
   "execution_count": 3,
   "id": "bdcca7f0-c73f-4216-8d57-1a2074689996",
   "metadata": {},
   "outputs": [],
   "source": [
    "import numpy as np\n",
    "import odbind as odb"
   ]
  },
  {
   "cell_type": "markdown",
   "id": "314fd8b1-991e-490a-90a3-72c7f6275383",
   "metadata": {},
   "source": [
    "## Horizon2D class\n",
    "\n",
    "The Horizon2D class provides access to 2D horizons in an OpendTect project/survey. A Survey object is required for context.\n",
    "\n",
    "The user must create an **Horizon2D** object to access a specific 2D horizon. There are 2 constructors provided:\n",
    "-   **Horizon2D( survey:odSurvey, horizon_name:str )** which opens an existing horizon called \"horizon_name\" if it exists or raises an exception.\n",
    "-   **Horizon2D.create( survey:odSurvey, horizon_name:str, creategeom:bool, overwrite:bool )** which creates a new 2D horizon called \"horizon_name\". By default \"overwrite\" is set to false so if \"horizon_name\" already exists the statement will fail but if true any existing 2D horizon of the same name will be replaced."
   ]
  },
  {
   "cell_type": "code",
   "execution_count": 4,
   "id": "a81d21af-3e8d-455c-97a9-941710e6ddd6",
   "metadata": {},
   "outputs": [],
   "source": [
    "f3demo = odb.Survey(data_root, 'F3_Demo_2020')"
   ]
  },
  {
   "cell_type": "markdown",
   "id": "32bde202-42f9-487b-b715-baab4c2bd942",
   "metadata": {},
   "source": [
    "### Horizon2D.info() function\n",
    "Returns basic information for a 2D horizon in a Python dictionary"
   ]
  },
  {
   "cell_type": "code",
   "execution_count": 5,
   "id": "1572adec-f088-4530-bd64-847589d23056",
   "metadata": {},
   "outputs": [
    {
     "data": {
      "text/plain": [
       "{'name': 'SSIS-Grid-Base',\n",
       " 'z_range': [0.535874783992767, 1.091473340988159],\n",
       " 'line_count': 10,\n",
       " 'attrib_count': 0}"
      ]
     },
     "execution_count": 5,
     "metadata": {},
     "output_type": "execute_result"
    }
   ],
   "source": [
    "gbase = odb.Horizon2D(f3demo, 'SSIS-Grid-Base')\n",
    "gbase.info()"
   ]
  },
  {
   "cell_type": "markdown",
   "id": "f91ab2e7-e7b2-459c-aa35-62866ebbf450",
   "metadata": {},
   "source": [
    "### Horizon2D.attribnames property\n",
    "Return a list of the attributes attached to this horizon."
   ]
  },
  {
   "cell_type": "code",
   "execution_count": 6,
   "id": "7dbe6728-c33b-4d0b-b2f9-2b9923f6234a",
   "metadata": {},
   "outputs": [
    {
     "data": {
      "text/plain": [
       "[]"
      ]
     },
     "execution_count": 6,
     "metadata": {},
     "output_type": "execute_result"
    }
   ],
   "source": [
    "gbase.attribnames"
   ]
  },
  {
   "cell_type": "markdown",
   "id": "20cf5f8e-2de0-4075-9e3f-8da373b9ed44",
   "metadata": {},
   "source": [
    "### Horizon2D.lineids() function\n",
    "Returns a list of the integer lineid's for lines with data for this horizon"
   ]
  },
  {
   "cell_type": "code",
   "execution_count": 7,
   "id": "9045de2e-ad62-40b8-86f8-09f8500644c5",
   "metadata": {},
   "outputs": [
    {
     "data": {
      "text/plain": [
       "[3, 4, 5, 6, 7, 8, 9, 10, 11, 12]"
      ]
     },
     "execution_count": 7,
     "metadata": {},
     "output_type": "execute_result"
    }
   ],
   "source": [
    "gbase.lineids()"
   ]
  },
  {
   "cell_type": "markdown",
   "id": "11837e6b-4d9c-4b80-ad9f-75a767137860",
   "metadata": {},
   "source": [
    "### Horizon2D.linenames() function\n",
    "Return a list of line names with data for this horizon"
   ]
  },
  {
   "cell_type": "code",
   "execution_count": 8,
   "id": "96994ea6-a30d-4c39-8b2c-55e4b0d9f99e",
   "metadata": {},
   "outputs": [
    {
     "data": {
      "text/plain": [
       "['SSIS-Grid-Dip1',\n",
       " 'SSIS-Grid-Dip2',\n",
       " 'SSIS-Grid-Dip3',\n",
       " 'SSIS-Grid-Dip4',\n",
       " 'SSIS-Grid-Strike1',\n",
       " 'SSIS-Grid-Strike2',\n",
       " 'SSIS-Grid-Strike3',\n",
       " 'SSIS-Grid-Strike4',\n",
       " 'SSIS-Grid-Strike5',\n",
       " 'SSIS-Grid-Strike6']"
      ]
     },
     "execution_count": 8,
     "metadata": {},
     "output_type": "execute_result"
    }
   ],
   "source": [
    "gbase.linenames()"
   ]
  },
  {
   "cell_type": "markdown",
   "id": "3a01af9e-8c67-441d-900f-5b6992817b76",
   "metadata": {},
   "source": [
    "### Horizon2D.linename(lineid) function\n",
    "Return the line name for the given lineid"
   ]
  },
  {
   "cell_type": "code",
   "execution_count": 9,
   "id": "40263787-c61c-4935-b536-0ba3244688e6",
   "metadata": {},
   "outputs": [
    {
     "data": {
      "text/plain": [
       "'SSIS-Grid-Dip1'"
      ]
     },
     "execution_count": 9,
     "metadata": {},
     "output_type": "execute_result"
    }
   ],
   "source": [
    "gbase.linename(3)"
   ]
  },
  {
   "cell_type": "markdown",
   "id": "a4c81a8f-ecf7-4b11-a3d0-bc307d1d0cdd",
   "metadata": {
    "tags": []
   },
   "source": [
    "### Horizon2D.getz(lineid), Horizon2D.getxy(lineid) and Horizon2D.get_xarray(lineid) functions\n",
    "\n",
    "-  getz(): return a Numpy 1D array with the horizon Z values for the given lineid\n",
    "-  getxy(): return a tuple of Numpy 1D arrays with the X coordinates, Y coordinates and trace numbers of the horizon z values for the given lineid\n",
    "-  get_xarray(): return an XArray DataArray with the horizon X, Y, trace numbers and Z values for the given lineid"
   ]
  },
  {
   "cell_type": "code",
   "execution_count": 10,
   "id": "c79adca0-bab0-4d53-a11a-b2de162ae4d9",
   "metadata": {},
   "outputs": [
    {
     "data": {
      "text/plain": [
       "[<matplotlib.lines.Line2D at 0x7faf289241c0>]"
      ]
     },
     "execution_count": 10,
     "metadata": {},
     "output_type": "execute_result"
    },
    {
     "data": {
      "image/png": "[encoded data removed]",
      "text/plain": [
       "<Figure size 640x480 with 1 Axes>"
      ]
     },
     "metadata": {},
     "output_type": "display_data"
    }
   ],
   "source": [
    "import xarray as xr\n",
    "hor = gbase.get_xarray(12)\n",
    "hor.plot(yincrease=False)"
   ]
  },
  {
   "cell_type": "markdown",
   "id": "722ca799-a5bb-43f4-a511-daa0a5b4d271",
   "metadata": {},
   "source": [
    "### Horizon2D.feature() function\n",
    "Returns a GeoJSON feature collection with the outline of the 2D horizon. This can be used in map displays."
   ]
  },
  {
   "cell_type": "code",
   "execution_count": 11,
   "id": "d823dc87-a914-4285-bf50-811befa0cb30",
   "metadata": {},
   "outputs": [
    {
     "data": {
      "text/plain": [
       "'{\"type\":\"FeatureCollection\",\"features\":[{\"type\":\"Feature\",\"properties\":{\"name\":\"SSIS-Grid-Base\",\"z_range\":[0.535874783992767,1.091473340988159],\"line_count\":10,\"attrib_count\":0},\"geometry\":{\"type\":\"MultiLineString\",\"coordinates\":[[[\"4.580122\",\"54.880604\"],[\"4.829624\",\"54.927198\"]],[[\"4.829476\",\"54.974369\"],[\"4.462301\",\"54.905695\"]],[[\"4.829331\",\"55.021536\"],[\"4.461725\",\"54.952865\"]],[[\"4.534664\",\"55.013832\"],[\"4.461147\",\"55.000038\"]],[[\"4.482080\",\"54.880294\"],[\"4.462130\",\"54.915217\"]],[[\"4.563898\",\"54.880591\"],[\"4.488573\",\"55.013276\"]],[[\"4.645715\",\"54.880826\"],[\"4.570661\",\"55.013560\"]],[[\"4.727531\",\"54.881006\"],[\"4.646343\",\"55.025124\"]],[[\"4.809346\",\"54.881137\"],[\"4.728454\",\"55.025301\"]],[[\"4.829484\",\"54.991590\"],[\"4.810563\",\"55.025426\"]]]}}]}'"
      ]
     },
     "execution_count": 11,
     "metadata": {},
     "output_type": "execute_result"
    }
   ],
   "source": [
    "gbase.feature()"
   ]
  },
  {
   "cell_type": "code",
   "execution_count": 15,
   "id": "c7871b57-b211-4609-a347-9a1e2c4e809a",
   "metadata": {},
   "outputs": [
    {
     "data": {
      "text/html": [
       "<div style=\"width:100%;\"><div style=\"position:relative;width:100%;height:0;padding-bottom:60%;\"><span style=\"color:#565656\">Make this Notebook Trusted to load map: File -> Trust Notebook</span><iframe srcdoc=\"&lt;!DOCTYPE html&gt;\n",
       "&lt;head&gt;    \n",
       "    &lt;meta http-equiv=&quot;content-type&quot; content=&quot;text/html; charset=UTF-8&quot; /&gt;\n",
       "    \n",
       "        &lt;script&gt;\n",
       "            L_NO_TOUCH = false;\n",
       "            L_DISABLE_3D = false;\n",
       "        &lt;/script&gt;\n",
       "    \n",
       "    &lt;style&gt;html, body {width: 100%;height: 100%;margin: 0;padding: 0;}&lt;/style&gt;\n",
       "    &lt;style&gt;#map {position:absolute;top:0;bottom:0;right:0;left:0;}&lt;/style&gt;\n",
       "    &lt;script src=&quot;https://cdn.jsdelivr.net/npm/leaflet@1.6.0/dist/leaflet.js&quot;&gt;&lt;/script&gt;\n",
       "    &lt;script src=&quot;https://code.jquery.com/jquery-1.12.4.min.js&quot;&gt;&lt;/script&gt;\n",
       "    &lt;script src=&quot;https://maxcdn.bootstrapcdn.com/bootstrap/3.2.0/js/bootstrap.min.js&quot;&gt;&lt;/script&gt;\n",
       "    &lt;script src=&quot;https://cdnjs.cloudflare.com/ajax/libs/Leaflet.awesome-markers/2.0.2/leaflet.awesome-markers.js&quot;&gt;&lt;/script&gt;\n",
       "    &lt;link rel=&quot;stylesheet&quot; href=&quot;https://cdn.jsdelivr.net/npm/leaflet@1.6.0/dist/leaflet.css&quot;/&gt;\n",
       "    &lt;link rel=&quot;stylesheet&quot; href=&quot;https://maxcdn.bootstrapcdn.com/bootstrap/3.2.0/css/bootstrap.min.css&quot;/&gt;\n",
       "    &lt;link rel=&quot;stylesheet&quot; href=&quot;https://maxcdn.bootstrapcdn.com/bootstrap/3.2.0/css/bootstrap-theme.min.css&quot;/&gt;\n",
       "    &lt;link rel=&quot;stylesheet&quot; href=&quot;https://maxcdn.bootstrapcdn.com/font-awesome/4.6.3/css/font-awesome.min.css&quot;/&gt;\n",
       "    &lt;link rel=&quot;stylesheet&quot; href=&quot;https://cdnjs.cloudflare.com/ajax/libs/Leaflet.awesome-markers/2.0.2/leaflet.awesome-markers.css&quot;/&gt;\n",
       "    &lt;link rel=&quot;stylesheet&quot; href=&quot;https://cdn.jsdelivr.net/gh/python-visualization/folium/folium/templates/leaflet.awesome.rotate.min.css&quot;/&gt;\n",
       "    \n",
       "            &lt;meta name=&quot;viewport&quot; content=&quot;width=device-width,\n",
       "                initial-scale=1.0, maximum-scale=1.0, user-scalable=no&quot; /&gt;\n",
       "            &lt;style&gt;\n",
       "                #map_e1730df9bdc5911c53696f56b82f94c2 {\n",
       "                    position: relative;\n",
       "                    width: 100.0%;\n",
       "                    height: 100.0%;\n",
       "                    left: 0.0%;\n",
       "                    top: 0.0%;\n",
       "                }\n",
       "            &lt;/style&gt;\n",
       "        \n",
       "    \n",
       "                    &lt;style&gt;\n",
       "                        .foliumpopup {\n",
       "                            margin: auto;\n",
       "                        }\n",
       "                       .foliumpopup table{\n",
       "                            margin: auto;\n",
       "                        }\n",
       "                        .foliumpopup tr{\n",
       "                            text-align: left;\n",
       "                        }\n",
       "                        .foliumpopup th{\n",
       "                            padding: 2px; padding-right: 8px;\n",
       "                        }\n",
       "                    &lt;/style&gt;\n",
       "            \n",
       "&lt;/head&gt;\n",
       "&lt;body&gt;    \n",
       "    \n",
       "            &lt;div class=&quot;folium-map&quot; id=&quot;map_e1730df9bdc5911c53696f56b82f94c2&quot; &gt;&lt;/div&gt;\n",
       "        \n",
       "&lt;/body&gt;\n",
       "&lt;script&gt;    \n",
       "    \n",
       "            var map_e1730df9bdc5911c53696f56b82f94c2 = L.map(\n",
       "                &quot;map_e1730df9bdc5911c53696f56b82f94c2&quot;,\n",
       "                {\n",
       "                    center: [52.3, 8.0],\n",
       "                    crs: L.CRS.EPSG3857,\n",
       "                    maxBounds: [[-90, -180], [90, 180]],\n",
       "                    zoom: 6,\n",
       "                    zoomControl: true,\n",
       "                    preferCanvas: false,\n",
       "                    maxBoundsViscosity: 1,\n",
       "                }\n",
       "            );\n",
       "\n",
       "            \n",
       "\n",
       "        \n",
       "    \n",
       "            var tile_layer_9dff58ce62499ac4919f1d873002a0d2 = L.tileLayer(\n",
       "                &quot;https://stamen-tiles-{s}.a.ssl.fastly.net/terrain/{z}/{x}/{y}.jpg&quot;,\n",
       "                {&quot;attribution&quot;: &quot;Map tiles by \\u003ca href=\\&quot;http://stamen.com\\&quot;\\u003eStamen Design\\u003c/a\\u003e, under \\u003ca href=\\&quot;http://creativecommons.org/licenses/by/3.0\\&quot;\\u003eCC BY 3.0\\u003c/a\\u003e. Data by \\u0026copy; \\u003ca href=\\&quot;http://openstreetmap.org\\&quot;\\u003eOpenStreetMap\\u003c/a\\u003e, under \\u003ca href=\\&quot;http://creativecommons.org/licenses/by-sa/3.0\\&quot;\\u003eCC BY SA\\u003c/a\\u003e.&quot;, &quot;detectRetina&quot;: false, &quot;maxNativeZoom&quot;: 18, &quot;maxZoom&quot;: 18, &quot;minZoom&quot;: 0, &quot;noWrap&quot;: false, &quot;opacity&quot;: 1, &quot;subdomains&quot;: &quot;abc&quot;, &quot;tms&quot;: false}\n",
       "            ).addTo(map_e1730df9bdc5911c53696f56b82f94c2);\n",
       "        \n",
       "    \n",
       "\n",
       "        function geo_json_dc71009c7425c485d084f5c7cc8ba703_onEachFeature(feature, layer) {\n",
       "            layer.on({\n",
       "            });\n",
       "        };\n",
       "        var geo_json_dc71009c7425c485d084f5c7cc8ba703 = L.geoJson(null, {\n",
       "                onEachFeature: geo_json_dc71009c7425c485d084f5c7cc8ba703_onEachFeature,\n",
       "            \n",
       "        });\n",
       "\n",
       "        function geo_json_dc71009c7425c485d084f5c7cc8ba703_add (data) {\n",
       "            geo_json_dc71009c7425c485d084f5c7cc8ba703\n",
       "                .addData(data)\n",
       "                .addTo(map_e1730df9bdc5911c53696f56b82f94c2);\n",
       "        }\n",
       "            geo_json_dc71009c7425c485d084f5c7cc8ba703_add({&quot;features&quot;: [{&quot;geometry&quot;: {&quot;coordinates&quot;: [[[&quot;4.580122&quot;, &quot;54.880604&quot;], [&quot;4.829624&quot;, &quot;54.927198&quot;]], [[&quot;4.829476&quot;, &quot;54.974369&quot;], [&quot;4.462301&quot;, &quot;54.905695&quot;]], [[&quot;4.829331&quot;, &quot;55.021536&quot;], [&quot;4.461725&quot;, &quot;54.952865&quot;]], [[&quot;4.534664&quot;, &quot;55.013832&quot;], [&quot;4.461147&quot;, &quot;55.000038&quot;]], [[&quot;4.482080&quot;, &quot;54.880294&quot;], [&quot;4.462130&quot;, &quot;54.915217&quot;]], [[&quot;4.563898&quot;, &quot;54.880591&quot;], [&quot;4.488573&quot;, &quot;55.013276&quot;]], [[&quot;4.645715&quot;, &quot;54.880826&quot;], [&quot;4.570661&quot;, &quot;55.013560&quot;]], [[&quot;4.727531&quot;, &quot;54.881006&quot;], [&quot;4.646343&quot;, &quot;55.025124&quot;]], [[&quot;4.809346&quot;, &quot;54.881137&quot;], [&quot;4.728454&quot;, &quot;55.025301&quot;]], [[&quot;4.829484&quot;, &quot;54.991590&quot;], [&quot;4.810563&quot;, &quot;55.025426&quot;]]], &quot;type&quot;: &quot;MultiLineString&quot;}, &quot;properties&quot;: {&quot;attrib_count&quot;: 0, &quot;line_count&quot;: 10, &quot;name&quot;: &quot;SSIS-Grid-Base&quot;, &quot;z_range&quot;: [0.535874783992767, 1.091473340988159]}, &quot;type&quot;: &quot;Feature&quot;}], &quot;type&quot;: &quot;FeatureCollection&quot;});\n",
       "\n",
       "        \n",
       "    \n",
       "    geo_json_dc71009c7425c485d084f5c7cc8ba703.bindPopup(\n",
       "    function(layer){\n",
       "    let div = L.DomUtil.create(&#x27;div&#x27;);\n",
       "    \n",
       "    let handleObject = feature=&gt;typeof(feature)==&#x27;object&#x27; ? JSON.stringify(feature) : feature;\n",
       "    let fields = [&quot;name&quot;];\n",
       "    let aliases = [&quot;name&quot;];\n",
       "    let table = &#x27;&lt;table&gt;&#x27; +\n",
       "        String(\n",
       "        fields.map(\n",
       "        (v,i)=&gt;\n",
       "        `&lt;tr&gt;\n",
       "            &lt;th&gt;${aliases[i].toLocaleString()}&lt;/th&gt;\n",
       "            \n",
       "            &lt;td&gt;${handleObject(layer.feature.properties[v]).toLocaleString()}&lt;/td&gt;\n",
       "        &lt;/tr&gt;`).join(&#x27;&#x27;))\n",
       "    +&#x27;&lt;/table&gt;&#x27;;\n",
       "    div.innerHTML=table;\n",
       "    \n",
       "    return div\n",
       "    }\n",
       "    ,{&quot;className&quot;: &quot;foliumpopup&quot;});\n",
       "                     \n",
       "&lt;/script&gt;\" style=\"position:absolute;width:100%;height:100%;left:0;top:0;border:none !important;\" allowfullscreen webkitallowfullscreen mozallowfullscreen></iframe></div></div>"
      ],
      "text/plain": [
       "<folium.folium.Map at 0x7faf28828d00>"
      ]
     },
     "execution_count": 15,
     "metadata": {},
     "output_type": "execute_result"
    }
   ],
   "source": [
    "import folium\n",
    "survmap = folium.Map(location=[52.3,8.0], tiles=\"Stamen Terrain\", zoom_start = 6, min_lat=-90, max_lat=90, min_lon=-180, max_lon=180, max_bounds=True, maxBoundsViscosity=1)\n",
    "folium.GeoJson(gbase.feature(), popup=folium.GeoJsonPopup(fields=['name'])).add_to(survmap)\n",
    "survmap"
   ]
  },
  {
   "cell_type": "markdown",
   "id": "83f65050-c275-4e68-8dd3-a4872695a267",
   "metadata": {},
   "source": [
    "## Static methods\n",
    "A number of methods are provided to get information either for all or a selected number of 2D horizons in the user provided survey."
   ]
  },
  {
   "cell_type": "code",
   "execution_count": 12,
   "id": "e582c1c3-6f12-4b7d-9e11-296dde6496d2",
   "metadata": {},
   "outputs": [
    {
     "data": {
      "text/plain": [
       "['SSIS-Grid-Base',\n",
       " 'SSIS-Grid-Top',\n",
       " 'SSIS-Grid1-MFS1',\n",
       " 'SSIS-Grid3-SB1',\n",
       " 'SSIS-Grid7-MRS2',\n",
       " 'SSIS-Grid6-SB2',\n",
       " 'SSIS-Grid4-MRS1',\n",
       " 'SSIS-Grid2-TopHST1',\n",
       " 'SSIS-Grid5-TopHST2',\n",
       " '2D Demo0 - FS4',\n",
       " '2D Demo1 - MFS4',\n",
       " '2D Demo4 - Truncation',\n",
       " '2D Demo6 - FS8',\n",
       " '2D Demo7 - FS11']"
      ]
     },
     "execution_count": 12,
     "metadata": {},
     "output_type": "execute_result"
    }
   ],
   "source": [
    "hors = odb.Horizon2D.names(f3demo)\n",
    "hors"
   ]
  },
  {
   "cell_type": "markdown",
   "id": "cd6860f9-fffe-493b-990a-0dce142c664e",
   "metadata": {},
   "source": [
    "### Horizon2D.infos() and Horizon2D.infos_dataframe() functions\n",
    "These return a dictionary and a Pandas DataFrame respectively with basic information for the listed horizons (or all horizons if no list provided) in the given survey."
   ]
  },
  {
   "cell_type": "code",
   "execution_count": 13,
   "id": "2538d515-63cb-4029-bb43-5dd6b0967a47",
   "metadata": {
    "tags": []
   },
   "outputs": [
    {
     "data": {
      "text/html": [
       "<div>\n",
       "<style scoped>\n",
       "    .dataframe tbody tr th:only-of-type {\n",
       "        vertical-align: middle;\n",
       "    }\n",
       "\n",
       "    .dataframe tbody tr th {\n",
       "        vertical-align: top;\n",
       "    }\n",
       "\n",
       "    .dataframe thead th {\n",
       "        text-align: right;\n",
       "    }\n",
       "</style>\n",
       "<table border=\"1\" class=\"dataframe\">\n",
       "  <thead>\n",
       "    <tr style=\"text-align: right;\">\n",
       "      <th></th>\n",
       "      <th>name</th>\n",
       "      <th>z_range</th>\n",
       "      <th>line_count</th>\n",
       "      <th>attrib_count</th>\n",
       "    </tr>\n",
       "  </thead>\n",
       "  <tbody>\n",
       "    <tr>\n",
       "      <th>0</th>\n",
       "      <td>SSIS-Grid-Base</td>\n",
       "      <td>[0.535874783992767, 1.091473340988159]</td>\n",
       "      <td>10</td>\n",
       "      <td>0</td>\n",
       "    </tr>\n",
       "    <tr>\n",
       "      <th>1</th>\n",
       "      <td>SSIS-Grid-Top</td>\n",
       "      <td>[0.427393287420273, 0.832983076572418]</td>\n",
       "      <td>10</td>\n",
       "      <td>0</td>\n",
       "    </tr>\n",
       "    <tr>\n",
       "      <th>2</th>\n",
       "      <td>SSIS-Grid1-MFS1</td>\n",
       "      <td>[0.717825710773468, 1.039108514785767]</td>\n",
       "      <td>1</td>\n",
       "      <td>0</td>\n",
       "    </tr>\n",
       "    <tr>\n",
       "      <th>3</th>\n",
       "      <td>SSIS-Grid3-SB1</td>\n",
       "      <td>[0.492197394371033, 1.0893862247467]</td>\n",
       "      <td>4</td>\n",
       "      <td>0</td>\n",
       "    </tr>\n",
       "    <tr>\n",
       "      <th>4</th>\n",
       "      <td>SSIS-Grid7-MRS2</td>\n",
       "      <td>[0.4436174929142, 0.989517986774445]</td>\n",
       "      <td>10</td>\n",
       "      <td>0</td>\n",
       "    </tr>\n",
       "    <tr>\n",
       "      <th>5</th>\n",
       "      <td>SSIS-Grid6-SB2</td>\n",
       "      <td>[0.44481930136681, 1.04135]</td>\n",
       "      <td>10</td>\n",
       "      <td>0</td>\n",
       "    </tr>\n",
       "    <tr>\n",
       "      <th>6</th>\n",
       "      <td>SSIS-Grid4-MRS1</td>\n",
       "      <td>[0.49088379740715, 1.06265664100647]</td>\n",
       "      <td>4</td>\n",
       "      <td>0</td>\n",
       "    </tr>\n",
       "    <tr>\n",
       "      <th>7</th>\n",
       "      <td>SSIS-Grid2-TopHST1</td>\n",
       "      <td>[0.629609823226929, 1.090385913848877]</td>\n",
       "      <td>2</td>\n",
       "      <td>0</td>\n",
       "    </tr>\n",
       "    <tr>\n",
       "      <th>8</th>\n",
       "      <td>SSIS-Grid5-TopHST2</td>\n",
       "      <td>[0.487022310495377, 1.037940859794617]</td>\n",
       "      <td>7</td>\n",
       "      <td>0</td>\n",
       "    </tr>\n",
       "    <tr>\n",
       "      <th>9</th>\n",
       "      <td>2D Demo0 - FS4</td>\n",
       "      <td>[0.738831281661987, 1.118974924087524]</td>\n",
       "      <td>1</td>\n",
       "      <td>0</td>\n",
       "    </tr>\n",
       "    <tr>\n",
       "      <th>10</th>\n",
       "      <td>2D Demo1 - MFS4</td>\n",
       "      <td>[0.6617066860199, 1.09233295917511]</td>\n",
       "      <td>1</td>\n",
       "      <td>0</td>\n",
       "    </tr>\n",
       "    <tr>\n",
       "      <th>11</th>\n",
       "      <td>2D Demo4 - Truncation</td>\n",
       "      <td>[0.580494582653046, 1.054888010025024]</td>\n",
       "      <td>1</td>\n",
       "      <td>0</td>\n",
       "    </tr>\n",
       "    <tr>\n",
       "      <th>12</th>\n",
       "      <td>2D Demo6 - FS8</td>\n",
       "      <td>[0.509159028530121, 0.837781727314]</td>\n",
       "      <td>1</td>\n",
       "      <td>0</td>\n",
       "    </tr>\n",
       "    <tr>\n",
       "      <th>13</th>\n",
       "      <td>2D Demo7 - FS11</td>\n",
       "      <td>[0.4705807864666, 0.625321507453918]</td>\n",
       "      <td>1</td>\n",
       "      <td>0</td>\n",
       "    </tr>\n",
       "  </tbody>\n",
       "</table>\n",
       "</div>"
      ],
      "text/plain": [
       "                     name                                 z_range  line_count  \\\n",
       "0          SSIS-Grid-Base  [0.535874783992767, 1.091473340988159]          10   \n",
       "1           SSIS-Grid-Top  [0.427393287420273, 0.832983076572418]          10   \n",
       "2         SSIS-Grid1-MFS1  [0.717825710773468, 1.039108514785767]           1   \n",
       "3          SSIS-Grid3-SB1    [0.492197394371033, 1.0893862247467]           4   \n",
       "4         SSIS-Grid7-MRS2    [0.4436174929142, 0.989517986774445]          10   \n",
       "5          SSIS-Grid6-SB2             [0.44481930136681, 1.04135]          10   \n",
       "6         SSIS-Grid4-MRS1    [0.49088379740715, 1.06265664100647]           4   \n",
       "7      SSIS-Grid2-TopHST1  [0.629609823226929, 1.090385913848877]           2   \n",
       "8      SSIS-Grid5-TopHST2  [0.487022310495377, 1.037940859794617]           7   \n",
       "9          2D Demo0 - FS4  [0.738831281661987, 1.118974924087524]           1   \n",
       "10        2D Demo1 - MFS4     [0.6617066860199, 1.09233295917511]           1   \n",
       "11  2D Demo4 - Truncation  [0.580494582653046, 1.054888010025024]           1   \n",
       "12         2D Demo6 - FS8     [0.509159028530121, 0.837781727314]           1   \n",
       "13        2D Demo7 - FS11    [0.4705807864666, 0.625321507453918]           1   \n",
       "\n",
       "    attrib_count  \n",
       "0              0  \n",
       "1              0  \n",
       "2              0  \n",
       "3              0  \n",
       "4              0  \n",
       "5              0  \n",
       "6              0  \n",
       "7              0  \n",
       "8              0  \n",
       "9              0  \n",
       "10             0  \n",
       "11             0  \n",
       "12             0  \n",
       "13             0  "
      ]
     },
     "execution_count": 13,
     "metadata": {},
     "output_type": "execute_result"
    }
   ],
   "source": [
    "odb.Horizon2D.infos_dataframe(f3demo)"
   ]
  },
  {
   "cell_type": "markdown",
   "id": "0eb46b05-8698-4983-a0b7-37b37818ee47",
   "metadata": {},
   "source": [
    "### Horizon2D.features() function\n",
    "Returns a GeoJSON feature collection for the listed 2D horizons (or all 2D horizons if no list provided) in the given survey. This can be used to create map displays."
   ]
  },
  {
   "cell_type": "code",
   "execution_count": 14,
   "id": "e1f6770c-d9fa-4c1e-9f78-dbed280a15a4",
   "metadata": {},
   "outputs": [
    {
     "data": {
      "text/plain": [
       "'{\"type\":\"FeatureCollection\",\"features\":[{\"type\":\"Feature\",\"properties\":{\"name\":\"SSIS-Grid3-SB1\",\"z_range\":[0.492197394371033,1.0893862247467],\"line_count\":4,\"attrib_count\":0},\"geometry\":{\"type\":\"MultiLineString\",\"coordinates\":[[[\"4.580122\",\"54.880604\"],[\"4.829624\",\"54.927198\"]],[[\"4.829476\",\"54.974369\"],[\"4.462301\",\"54.905695\"]],[[\"4.829331\",\"55.021536\"],[\"4.461725\",\"54.952865\"]],[[\"4.727531\",\"54.881006\"],[\"4.646343\",\"55.025124\"]]]}},{\"type\":\"Feature\",\"properties\":{\"name\":\"SSIS-Grid7-MRS2\",\"z_range\":[0.4436174929142,0.989517986774445],\"line_count\":10,\"attrib_count\":0},\"geometry\":{\"type\":\"MultiLineString\",\"coordinates\":[[[\"4.580122\",\"54.880604\"],[\"4.829624\",\"54.927198\"]],[[\"4.829476\",\"54.974369\"],[\"4.462301\",\"54.905695\"]],[[\"4.829331\",\"55.021536\"],[\"4.461725\",\"54.952865\"]],[[\"4.534664\",\"55.013832\"],[\"4.461147\",\"55.000038\"]],[[\"4.482080\",\"54.880294\"],[\"4.462130\",\"54.915217\"]],[[\"4.563898\",\"54.880591\"],[\"4.488573\",\"55.013276\"]],[[\"4.645715\",\"54.880826\"],[\"4.570661\",\"55.013560\"]],[[\"4.727531\",\"54.881006\"],[\"4.646343\",\"55.025124\"]],[[\"4.809346\",\"54.881137\"],[\"4.728454\",\"55.025301\"]],[[\"4.829484\",\"54.991590\"],[\"4.810563\",\"55.025426\"]]]}}]}'"
      ]
     },
     "execution_count": 14,
     "metadata": {},
     "output_type": "execute_result"
    }
   ],
   "source": [
    "odb.Horizon2D.features(f3demo, hors[3:5])"
   ]
  }
 ],
 "metadata": {
  "jupytext": {
   "formats": "ipynb,md"
  },
  "kernelspec": {
   "display_name": "Python 3 (ipykernel)",
   "language": "python",
   "name": "python3"
  },
  "language_info": {
   "codemirror_mode": {
    "name": "ipython",
    "version": 3
   },
   "file_extension": ".py",
   "mimetype": "text/x-python",
   "name": "python",
   "nbconvert_exporter": "python",
   "pygments_lexer": "ipython3",
   "version": "3.9.0"
  }
 },
 "nbformat": 4,
 "nbformat_minor": 5
}
