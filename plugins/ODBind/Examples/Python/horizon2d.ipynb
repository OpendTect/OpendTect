{
 "cells": [
  {
   "cell_type": "markdown",
   "id": "383b3a3e-8294-435f-b723-3a7d555d1d6f",
   "metadata": {},
   "source": [
    "# Horizon2D Class - ODBind Python Bindings"
   ]
  },
  {
   "cell_type": "code",
   "execution_count": 1,
   "id": "27f7c5b9-7dcb-4ac5-99cc-09bcabf9feb0",
   "metadata": {},
   "outputs": [],
   "source": [
    "odpy_path = '/home/wayne/Work/WMSeismicSolutions/dGB/Development/Build/bin/od7.0/bin/python'\n",
    "data_root = '/mnt/Data/seismic/ODData'\n",
    "import os\n",
    "import sys"
   ]
  },
  {
   "cell_type": "code",
   "execution_count": 2,
   "id": "bdcca7f0-c73f-4216-8d57-1a2074689996",
   "metadata": {},
   "outputs": [],
   "source": [
    "sys.path.insert(0,odpy_path)\n",
    "os.environ[\"DTECT_DATA\"] = data_root\n",
    "import odbind as odb"
   ]
  },
  {
   "cell_type": "markdown",
   "id": "314fd8b1-991e-490a-90a3-72c7f6275383",
   "metadata": {},
   "source": [
    "The Horizon2D class provides access to 2D horizons in an OpendTect project/survey. A Survey object is required for context."
   ]
  },
  {
   "cell_type": "code",
   "execution_count": 3,
   "id": "a81d21af-3e8d-455c-97a9-941710e6ddd6",
   "metadata": {},
   "outputs": [],
   "source": [
    "f3demo = odb.Survey(data_root, 'F3_Demo_2020')"
   ]
  },
  {
   "cell_type": "code",
   "execution_count": 4,
   "id": "1572adec-f088-4530-bd64-847589d23056",
   "metadata": {},
   "outputs": [
    {
     "data": {
      "text/plain": [
       "{'Name': 'SSIS-Grid-Top',\n",
       " 'NrAttribute': 1,\n",
       " 'NrLines': 10,\n",
       " 'Z Range': [0.427393287420273, 0.832983076572418]}"
      ]
     },
     "execution_count": 4,
     "metadata": {},
     "output_type": "execute_result"
    }
   ],
   "source": [
    "gtop = odb.Horizon2D(f3demo, 'SSIS-Grid-Top')\n",
    "gtop.info()"
   ]
  },
  {
   "cell_type": "code",
   "execution_count": 5,
   "id": "9045de2e-ad62-40b8-86f8-09f8500644c5",
   "metadata": {},
   "outputs": [
    {
     "data": {
      "text/plain": [
       "[3, 4, 5, 6, 7, 8, 9, 10, 11, 12]"
      ]
     },
     "execution_count": 5,
     "metadata": {},
     "output_type": "execute_result"
    }
   ],
   "source": [
    "gtop.lineids()"
   ]
  },
  {
   "cell_type": "code",
   "execution_count": 6,
   "id": "7dbe6728-c33b-4d0b-b2f9-2b9923f6234a",
   "metadata": {},
   "outputs": [
    {
     "data": {
      "text/plain": [
       "['energy']"
      ]
     },
     "execution_count": 6,
     "metadata": {},
     "output_type": "execute_result"
    }
   ],
   "source": [
    "gtop.attribnames"
   ]
  },
  {
   "cell_type": "markdown",
   "id": "83f65050-c275-4e68-8dd3-a4872695a267",
   "metadata": {},
   "source": [
    "## Static methods\n",
    "A number of methods are provided to get information either for all or a selected number of 2D horizons in the user provided survey."
   ]
  },
  {
   "cell_type": "code",
   "execution_count": 7,
   "id": "e582c1c3-6f12-4b7d-9e11-296dde6496d2",
   "metadata": {},
   "outputs": [
    {
     "data": {
      "text/plain": [
       "['SSIS-Grid-Base',\n",
       " 'SSIS-Grid-Top',\n",
       " 'SSIS-Grid1-MFS1',\n",
       " 'SSIS-Grid3-SB1',\n",
       " 'SSIS-Grid7-MRS2',\n",
       " 'SSIS-Grid6-SB2',\n",
       " 'SSIS-Grid4-MRS1',\n",
       " 'SSIS-Grid2-TopHST1',\n",
       " 'SSIS-Grid5-TopHST2',\n",
       " '2D Demo0 - FS4',\n",
       " '2D Demo1 - MFS4',\n",
       " '2D Demo4 - Truncation',\n",
       " '2D Demo6 - FS8',\n",
       " '2D Demo7 - FS11']"
      ]
     },
     "execution_count": 7,
     "metadata": {},
     "output_type": "execute_result"
    }
   ],
   "source": [
    "hors = odb.Horizon2D.names(f3demo)\n",
    "hors"
   ]
  },
  {
   "cell_type": "code",
   "execution_count": 8,
   "id": "2538d515-63cb-4029-bb43-5dd6b0967a47",
   "metadata": {
    "tags": []
   },
   "outputs": [
    {
     "data": {
      "text/plain": [
       "{'Name': ['SSIS-Grid-Base',\n",
       "  'SSIS-Grid-Top',\n",
       "  'SSIS-Grid1-MFS1',\n",
       "  'SSIS-Grid3-SB1'],\n",
       " 'NrAttribute': [0, 1, 0, 0],\n",
       " 'NrLines': [10, 10, 1, 4],\n",
       " 'Z Range': [[0.535874783992767, 1.091473340988159],\n",
       "  [0.427393287420273, 0.832983076572418],\n",
       "  [0.717825710773468, 1.039108514785767],\n",
       "  [0.492197394371033, 1.0893862247467]]}"
      ]
     },
     "execution_count": 8,
     "metadata": {},
     "output_type": "execute_result"
    }
   ],
   "source": [
    "odb.Horizon2D.infos(f3demo, hors[0:4])"
   ]
  }
 ],
 "metadata": {
  "kernelspec": {
   "display_name": "Python 3 (ipykernel)",
   "language": "python",
   "name": "python3"
  },
  "language_info": {
   "codemirror_mode": {
    "name": "ipython",
    "version": 3
   },
   "file_extension": ".py",
   "mimetype": "text/x-python",
   "name": "python",
   "nbconvert_exporter": "python",
   "pygments_lexer": "ipython3",
   "version": "3.10.9"
  }
 },
 "nbformat": 4,
 "nbformat_minor": 5
}
