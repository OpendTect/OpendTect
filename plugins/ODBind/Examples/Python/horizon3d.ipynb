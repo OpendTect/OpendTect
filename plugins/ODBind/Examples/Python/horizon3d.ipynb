{
 "cells": [
  {
   "cell_type": "markdown",
   "id": "383b3a3e-8294-435f-b723-3a7d555d1d6f",
   "metadata": {},
   "source": [
    "# Horizon3D Class - ODBind Python Bindings"
   ]
  },
  {
   "cell_type": "code",
   "execution_count": null,
   "id": "590b8dd5-d81a-4637-8b56-1f0b8335d26f",
   "metadata": {},
   "outputs": [],
   "source": [
    "import os\n",
    "import sys\n",
    "import numpy as np"
   ]
  },
  {
   "cell_type": "markdown",
   "id": "f95a6cc1-9d16-4a6c-a6db-773fc126e276",
   "metadata": {},
   "source": [
    "If this notebook is not opened from OpendTect then the following paths should be set for your system and the cell executed."
   ]
  },
  {
   "cell_type": "code",
   "execution_count": null,
   "id": "27f7c5b9-7dcb-4ac5-99cc-09bcabf9feb0",
   "metadata": {},
   "outputs": [],
   "source": [
    "odpy_path = '/home/wayne/Work/WMSeismicSolutions/dGB/Development/Build/bin/od7.0/bin/python'\n",
    "data_root = '/mnt/Data/seismic/ODData'\n",
    "sys.path.insert(0,odpy_path)\n",
    "os.environ[\"DTECT_DATA\"] = data_root"
   ]
  },
  {
   "cell_type": "code",
   "execution_count": null,
   "id": "bdcca7f0-c73f-4216-8d57-1a2074689996",
   "metadata": {},
   "outputs": [],
   "source": [
    "import numpy as np\n",
    "import odbind as odb"
   ]
  },
  {
   "cell_type": "markdown",
   "id": "314fd8b1-991e-490a-90a3-72c7f6275383",
   "metadata": {},
   "source": [
    "## Horizon3D class\n",
    "\n",
    "The Horizon3D class provides access to 3D horizons in an OpendTect project/survey. A Survey object is required for context.\n",
    "\n",
    "The user must create an **Horizon3D** object to access a specific 3D horizon. There are 2 constructors provided:\n",
    "-   **Horizon3D( survey:odSurvey, horizon_name:str )** which opens an existing horizon called \"horizon_name\" if it exists or raises an exception.\n",
    "-   **Horizon3D.create( survey:odSurvey, horizon_name:str, iline_range:range, xline_range:range, overwrite:bool )** which creates a new 3D horizon called \"horizon_name\" with the specified extents. By default \"overwrite\" is set to false so if \"horizon_name\" already exists the statement will fail but if true any existing 3D horizon of the same name will be replaced."
   ]
  },
  {
   "cell_type": "code",
   "execution_count": null,
   "id": "a81d21af-3e8d-455c-97a9-941710e6ddd6",
   "metadata": {},
   "outputs": [],
   "source": [
    "f3demo = odb.Survey(data_root, 'F3_Demo_2020')"
   ]
  },
  {
   "cell_type": "markdown",
   "id": "a35a04f6-3cee-4858-aa3a-d6093f066b02",
   "metadata": {},
   "source": [
    "### Horizon3D.info() function\n",
    "Returns basic information for a survey in a Python dictionary"
   ]
  },
  {
   "cell_type": "code",
   "execution_count": null,
   "id": "1572adec-f088-4530-bd64-847589d23056",
   "metadata": {},
   "outputs": [],
   "source": [
    "mfs4 = odb.Horizon3D(f3demo, 'Demo 1 --> MFS4')\n",
    "mfs4.info()"
   ]
  },
  {
   "cell_type": "markdown",
   "id": "635c64fc-b937-49ef-8225-cc7aee2d7f8e",
   "metadata": {},
   "source": [
    "### Horizon3D.attribnames property\n",
    "Return a list of the attributes attached to this horizon."
   ]
  },
  {
   "cell_type": "code",
   "execution_count": null,
   "id": "7dbe6728-c33b-4d0b-b2f9-2b9923f6234a",
   "metadata": {},
   "outputs": [],
   "source": [
    "mfs4.attribnames"
   ]
  },
  {
   "cell_type": "markdown",
   "id": "1446472d-4ed6-4f65-a186-ed89bd8722b8",
   "metadata": {},
   "source": [
    "### Horizon3D.ilines and Horizon3D.xlines properties\n",
    "Return a list of the inline and crossline numbers covered by the horizon."
   ]
  },
  {
   "cell_type": "code",
   "execution_count": null,
   "id": "a81d0af3-a1fe-4d62-9ef8-9c73d94128f0",
   "metadata": {},
   "outputs": [],
   "source": [
    "mfs4.ilines[0:10]"
   ]
  },
  {
   "cell_type": "markdown",
   "id": "bc03a11b-cc65-496e-9be6-e348ecf7603d",
   "metadata": {},
   "source": [
    "### Horizon3D.getz(), Horizon3D.getxy() and Horizon3D.get_xarray() functions\n",
    "\n",
    "-  getz(): return a Numpy 2D array with the horizon Z values\n",
    "-  getxy(): return a tuple of Numpy 2D arrays with the X and Y coordinates of the horizon z values\n",
    "-  get_xarray(): return an XArray DataArray with the horizon X, Y and Z values"
   ]
  },
  {
   "cell_type": "code",
   "execution_count": null,
   "id": "cbd56248-5bda-4d88-91f4-7a1015b2d511",
   "metadata": {
    "tags": []
   },
   "outputs": [],
   "source": [
    "import xarray as xr\n",
    "hor = mfs4.get_xarray()\n",
    "xr.plot.pcolormesh(hor, x='x', y='y')"
   ]
  },
  {
   "cell_type": "markdown",
   "id": "57ad9775-dd9a-4268-8880-92c0fee9b295",
   "metadata": {},
   "source": [
    "### Horizon3D.putz(), Horizon3D.putz_bycoord and Horizon3D.put_xarray functions\n",
    "\n",
    "-  putz(): takes a Numpy 2D array of Z values, an inline number list/array and a crossline number list/array and saves it to an horizon\n",
    "-  putz_bycoord(): takes a Numpy 2D array of z values, an array of X locations and an array of Y locations and saves it to an horizon\n",
    "-  put_xarray(): takes horizon Z values and locations from a XArray DataFrame and saves it to an horizon\n",
    "\n",
    "In all case values outside the creation limits of the horizon will be ignored. "
   ]
  },
  {
   "cell_type": "code",
   "execution_count": null,
   "id": "fbb20584-73ce-4110-afd7-2d0c7eb9242b",
   "metadata": {},
   "outputs": [],
   "source": [
    "newhor = odb.Horizon3D.create(f3demo, 'newhor', [300,400,1], [500,700,1], True)"
   ]
  },
  {
   "cell_type": "code",
   "execution_count": null,
   "id": "caeefa74-be40-40e0-bba8-24d3beb82e72",
   "metadata": {},
   "outputs": [],
   "source": [
    "newhor_z = newhor.get_xarray()\n",
    "newhor_z[:] = 900.0\n",
    "newhor.put_xarray(newhor_z)"
   ]
  },
  {
   "cell_type": "code",
   "execution_count": null,
   "id": "fe615c77-8bd1-4a92-80bf-bd9629ee0e3f",
   "metadata": {},
   "outputs": [],
   "source": [
    "newhor_read = odb.Horizon3D(f3demo,'newhor')\n",
    "newhor_read.info()"
   ]
  },
  {
   "cell_type": "markdown",
   "id": "fe998d47-a8a5-4c4e-a44f-fc74d6861938",
   "metadata": {},
   "source": [
    "### Horizon3D.feature() function\n",
    "Returns a GeoJSON feature collection with the outline of the 3D horizon. This can be used in map displays."
   ]
  },
  {
   "cell_type": "code",
   "execution_count": null,
   "id": "7ad69bf2-c99e-4a7a-8c4f-9bde17d7fd6c",
   "metadata": {},
   "outputs": [],
   "source": [
    "mfs4.feature()"
   ]
  },
  {
   "cell_type": "code",
   "execution_count": null,
   "id": "b62b24c1-a8c9-4684-95ff-574e70f1f7a2",
   "metadata": {},
   "outputs": [],
   "source": [
    "import folium\n",
    "survmap = folium.Map(location=[52.3,8.0], tiles=\"Stamen Terrain\", zoom_start = 6, min_lat=-90, max_lat=90, min_lon=-180, max_lon=180, max_bounds=True, maxBoundsViscosity=1)\n",
    "folium.GeoJson(mfs4.feature(), popup=folium.GeoJsonPopup(fields=['name'])).add_to(survmap)\n",
    "survmap"
   ]
  },
  {
   "cell_type": "markdown",
   "id": "83f65050-c275-4e68-8dd3-a4872695a267",
   "metadata": {},
   "source": [
    "## Static methods\n",
    "A number of methods are provided to get information either for all or a selected number of 3D horizons in the user provided survey."
   ]
  },
  {
   "cell_type": "code",
   "execution_count": null,
   "id": "e582c1c3-6f12-4b7d-9e11-296dde6496d2",
   "metadata": {},
   "outputs": [],
   "source": [
    "hors = odb.Horizon3D.names(f3demo)\n",
    "hors"
   ]
  },
  {
   "cell_type": "markdown",
   "id": "6b03b589-7789-403f-8e1e-701d91a19f7c",
   "metadata": {},
   "source": [
    "### Horizon3D.infos() and Horizon3D.infos_dataframe() functions\n",
    "These return a dictionary and a Pandas DataFrame respectively with basic information for the listed horizons (or all horizons if no list provided) in the given survey."
   ]
  },
  {
   "cell_type": "code",
   "execution_count": null,
   "id": "2538d515-63cb-4029-bb43-5dd6b0967a47",
   "metadata": {
    "tags": []
   },
   "outputs": [],
   "source": [
    "odb.Horizon3D.infos_dataframe(f3demo)"
   ]
  },
  {
   "cell_type": "markdown",
   "id": "7f2a65ee-f52a-4557-85b2-eaa6baf55af1",
   "metadata": {},
   "source": [
    "### Horizon3D.features() function\n",
    "\n",
    "Returns a GeoJSON feature collection for the listed horizons (or all horizons if no list provided) in the given survey. This can be used to create map displays."
   ]
  },
  {
   "cell_type": "code",
   "execution_count": null,
   "id": "f59afbb1-d214-4e0e-b424-9f9b34b0938e",
   "metadata": {
    "tags": []
   },
   "outputs": [],
   "source": [
    "odb.Horizon3D.features(f3demo, hors[6:8])"
   ]
  }
 ],
 "metadata": {
  "jupytext": {
   "formats": "ipynb,md"
  },
  "kernelspec": {
   "display_name": "Python 3 (ipykernel)",
   "language": "python",
   "name": "python3"
  },
  "language_info": {
   "codemirror_mode": {
    "name": "ipython",
    "version": 3
   },
   "file_extension": ".py",
   "mimetype": "text/x-python",
   "name": "python",
   "nbconvert_exporter": "python",
   "pygments_lexer": "ipython3",
   "version": "3.9.0"
  }
 },
 "nbformat": 4,
 "nbformat_minor": 5
}
