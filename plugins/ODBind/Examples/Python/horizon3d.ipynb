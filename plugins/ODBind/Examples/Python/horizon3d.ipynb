{
 "cells": [
  {
   "cell_type": "markdown",
   "id": "383b3a3e-8294-435f-b723-3a7d555d1d6f",
   "metadata": {},
   "source": [
    "# Horizon3D Class - ODBind Python Bindings"
   ]
  },
  {
   "cell_type": "code",
   "execution_count": 1,
   "id": "27f7c5b9-7dcb-4ac5-99cc-09bcabf9feb0",
   "metadata": {},
   "outputs": [],
   "source": [
    "odpy_path = '/home/wayne/Work/WMSeismicSolutions/dGB/Development/Build/bin/od7.0/bin/python'\n",
    "data_root = '/mnt/Data/seismic/ODData'\n",
    "import os\n",
    "import sys"
   ]
  },
  {
   "cell_type": "code",
   "execution_count": 2,
   "id": "bdcca7f0-c73f-4216-8d57-1a2074689996",
   "metadata": {},
   "outputs": [],
   "source": [
    "sys.path.insert(0,odpy_path)\n",
    "os.environ[\"DTECT_DATA\"] = data_root\n",
    "import odbind as odb"
   ]
  },
  {
   "cell_type": "markdown",
   "id": "314fd8b1-991e-490a-90a3-72c7f6275383",
   "metadata": {},
   "source": [
    "The Horizon3D class provides access to 3D horizons in an OpendTect project/survey. A Survey object is required for context."
   ]
  },
  {
   "cell_type": "code",
   "execution_count": 3,
   "id": "a81d21af-3e8d-455c-97a9-941710e6ddd6",
   "metadata": {},
   "outputs": [],
   "source": [
    "f3demo = odb.Survey(data_root, 'F3_Demo_2020')"
   ]
  },
  {
   "cell_type": "code",
   "execution_count": 4,
   "id": "1572adec-f088-4530-bd64-847589d23056",
   "metadata": {},
   "outputs": [
    {
     "data": {
      "text/plain": [
       "{'Name': 'Demo 1 --> MFS4',\n",
       " 'NrAttribute': 3,\n",
       " 'Z Range': [0.528257012367249, 1.09793794155121],\n",
       " 'Inl Range': [100, 750, 1],\n",
       " 'Crl Range': [300, 1250, 1]}"
      ]
     },
     "execution_count": 4,
     "metadata": {},
     "output_type": "execute_result"
    }
   ],
   "source": [
    "mfs4 = odb.Horizon3D(f3demo, 'Demo 1 --> MFS4')\n",
    "mfs4.info()"
   ]
  },
  {
   "cell_type": "code",
   "execution_count": 5,
   "id": "7dbe6728-c33b-4d0b-b2f9-2b9923f6234a",
   "metadata": {},
   "outputs": [
    {
     "data": {
      "text/plain": [
       "['SD_24Hz[-8,24ms]', 'SD_44Hz[-8,24ms]', 'SD_64Hz[-8,24ms]']"
      ]
     },
     "execution_count": 5,
     "metadata": {},
     "output_type": "execute_result"
    }
   ],
   "source": [
    "mfs4.attribnames"
   ]
  },
  {
   "cell_type": "markdown",
   "id": "83f65050-c275-4e68-8dd3-a4872695a267",
   "metadata": {},
   "source": [
    "## Static methods\n",
    "A number of methods are provided to get information either for all or a selected number of 3D horizons in the user provided survey."
   ]
  },
  {
   "cell_type": "code",
   "execution_count": 6,
   "id": "e582c1c3-6f12-4b7d-9e11-296dde6496d2",
   "metadata": {},
   "outputs": [
    {
     "data": {
      "text/plain": [
       "['Demo 7 --> shallow',\n",
       " 'Demo 6 --> FS8',\n",
       " 'Demo 5 --> FS7',\n",
       " 'Demo 4 --> Truncation',\n",
       " 'Demo 3  --> Top Foresets',\n",
       " 'Demo 2 --> FS6',\n",
       " 'Demo 1 --> MFS4',\n",
       " 'Demo 0 --> FS4',\n",
       " 'Trim_D6 --> FS8',\n",
       " 'Trim_D5 --> FS7',\n",
       " 'Trim_D4 --> Truncation',\n",
       " 'Trim_D0 --> FS4']"
      ]
     },
     "execution_count": 6,
     "metadata": {},
     "output_type": "execute_result"
    }
   ],
   "source": [
    "hors = odb.Horizon3D.names(f3demo)\n",
    "hors"
   ]
  },
  {
   "cell_type": "code",
   "execution_count": 7,
   "id": "2538d515-63cb-4029-bb43-5dd6b0967a47",
   "metadata": {
    "tags": []
   },
   "outputs": [
    {
     "data": {
      "text/plain": [
       "{'Name': ['Demo 1 --> MFS4', 'Demo 0 --> FS4'],\n",
       " 'NrAttribute': [3, 1],\n",
       " 'Z Range': [[0.528257012367249, 1.09793794155121],\n",
       "  [0.574454009532928, 1.126086950302124]],\n",
       " 'Inl Range': [[100, 750, 1], [100, 750, 1]],\n",
       " 'Crl Range': [[300, 1250, 1], [300, 1250, 1]]}"
      ]
     },
     "execution_count": 7,
     "metadata": {},
     "output_type": "execute_result"
    }
   ],
   "source": [
    "odb.Horizon3D.infos(f3demo, hors[6:8])"
   ]
  },
  {
   "cell_type": "code",
   "execution_count": 8,
   "id": "f59afbb1-d214-4e0e-b424-9f9b34b0938e",
   "metadata": {
    "tags": []
   },
   "outputs": [
    {
     "data": {
      "text/plain": [
       "'{\"type\":\"FeatureCollection\",\"features\":[{\"type\":\"Feature\",\"properties\":{\"Name\":\"Demo 1 --> MFS4\",\"NrAttribute\":3,\"Z Range\":[0.528257012367249,1.09793794155121],\"Inl Range\":[100,750,1],\"Crl Range\":[300,1250,1]},\"geometry\":{\"type\":\"Polygon\",\"coordinates\":[[4.644803351594548,54.796120223953054],[4.64367610071001,54.94212694984212],[5.014355742545435,54.942512524559866],[5.01414540463039,54.796514396823831],[4.644803351594548,54.796120223953054]]}},{\"type\":\"Feature\",\"properties\":{\"Name\":\"Demo 0 --> FS4\",\"NrAttribute\":1,\"Z Range\":[0.574454009532928,1.126086950302124],\"Inl Range\":[100,750,1],\"Crl Range\":[300,1250,1]},\"geometry\":{\"type\":\"Polygon\",\"coordinates\":[[4.644803351594548,54.796120223953054],[4.64367610071001,54.94212694984212],[5.014355742545435,54.942512524559866],[5.01414540463039,54.796514396823831],[4.644803351594548,54.796120223953054]]}}]}'"
      ]
     },
     "execution_count": 8,
     "metadata": {},
     "output_type": "execute_result"
    }
   ],
   "source": [
    "odb.Horizon3D.features(f3demo, hors[6:8])"
   ]
  }
 ],
 "metadata": {
  "kernelspec": {
   "display_name": "Python 3 (ipykernel)",
   "language": "python",
   "name": "python3"
  },
  "language_info": {
   "codemirror_mode": {
    "name": "ipython",
    "version": 3
   },
   "file_extension": ".py",
   "mimetype": "text/x-python",
   "name": "python",
   "nbconvert_exporter": "python",
   "pygments_lexer": "ipython3",
   "version": "3.10.9"
  }
 },
 "nbformat": 4,
 "nbformat_minor": 5
}
